{
 "cells": [
  {
   "cell_type": "code",
   "execution_count": 35,
   "id": "9841c1cb",
   "metadata": {},
   "outputs": [
    {
     "name": "stdout",
     "output_type": "stream",
     "text": [
      "['laranja', 'maçã', 'banana']\n"
     ]
    }
   ],
   "source": [
    "lista_tarefas = ['laranja', 'maçã', 'banana']\n",
    "print(lista_tarefas)"
   ]
  },
  {
   "cell_type": "code",
   "execution_count": 30,
   "id": "3e6e88f0",
   "metadata": {},
   "outputs": [
    {
     "name": "stdout",
     "output_type": "stream",
     "text": [
      "maçã\n"
     ]
    }
   ],
   "source": [
    "print(lista_tarefas[1])"
   ]
  },
  {
   "cell_type": "code",
   "execution_count": 36,
   "id": "b9ad9f3a",
   "metadata": {},
   "outputs": [
    {
     "name": "stdout",
     "output_type": "stream",
     "text": [
      "['laranja', 'maçã', 'banana', 'beterraba']\n"
     ]
    }
   ],
   "source": [
    "lista_tarefas.append('beterraba')\n",
    "print(lista_tarefas)"
   ]
  },
  {
   "cell_type": "code",
   "execution_count": 37,
   "id": "642b49a9",
   "metadata": {},
   "outputs": [
    {
     "name": "stdout",
     "output_type": "stream",
     "text": [
      "['laranja', 'chocolate', 'maçã', 'banana', 'beterraba']\n"
     ]
    }
   ],
   "source": [
    "lista_tarefas.insert(1, 'chocolate')\n",
    "print(lista_tarefas)"
   ]
  },
  {
   "cell_type": "code",
   "execution_count": 38,
   "id": "7bad9890",
   "metadata": {},
   "outputs": [
    {
     "name": "stdout",
     "output_type": "stream",
     "text": [
      "['laranja', 'chocolate', 'maçã', 'banana']\n"
     ]
    }
   ],
   "source": [
    "del lista_tarefas[4]\n",
    "print(lista_tarefas)"
   ]
  },
  {
   "cell_type": "code",
   "execution_count": 39,
   "id": "1910b14a",
   "metadata": {},
   "outputs": [
    {
     "name": "stdout",
     "output_type": "stream",
     "text": [
      "['laranja', 'maçã', 'banana']\n"
     ]
    }
   ],
   "source": [
    "lista_tarefas.remove('chocolate')\n",
    "print(lista_tarefas)"
   ]
  },
  {
   "cell_type": "code",
   "execution_count": 51,
   "id": "a6d03b4b",
   "metadata": {},
   "outputs": [
    {
     "name": "stdout",
     "output_type": "stream",
     "text": [
      "['laranja', 'maçã', 'iogurte']\n"
     ]
    }
   ],
   "source": [
    "lista_tarefas.append('iogurte')\n",
    "print(lista_tarefas)"
   ]
  },
  {
   "cell_type": "code",
   "execution_count": 52,
   "id": "da116274",
   "metadata": {},
   "outputs": [
    {
     "name": "stdout",
     "output_type": "stream",
     "text": [
      "iogurte\n"
     ]
    }
   ],
   "source": [
    "lista_sonhos = []\n",
    "\n",
    "sonho = lista_tarefas.pop(2)\n",
    "print(sonho)"
   ]
  },
  {
   "cell_type": "code",
   "execution_count": 53,
   "id": "f06012ea",
   "metadata": {},
   "outputs": [
    {
     "name": "stdout",
     "output_type": "stream",
     "text": [
      "['laranja', 'maçã']\n",
      "['iogurte']\n"
     ]
    }
   ],
   "source": [
    "lista_sonhos.append(sonho)\n",
    "print(lista_tarefas)\n",
    "print(lista_sonhos)"
   ]
  },
  {
   "cell_type": "code",
   "execution_count": 1,
   "id": "c4ee7ac5",
   "metadata": {},
   "outputs": [
    {
     "name": "stdout",
     "output_type": "stream",
     "text": [
      "Insira uma tarefa Assistir a aula\n"
     ]
    }
   ],
   "source": [
    "tf = []\n",
    "\n",
    "tarefa = input('Insira uma tarefa' )\n",
    "tf.append(tarefa)\n"
   ]
  },
  {
   "cell_type": "code",
   "execution_count": 2,
   "id": "d49a7ee7",
   "metadata": {},
   "outputs": [
    {
     "name": "stdout",
     "output_type": "stream",
     "text": [
      "[' Assistir a aula']\n"
     ]
    }
   ],
   "source": [
    "print(tf)"
   ]
  },
  {
   "cell_type": "code",
   "execution_count": null,
   "id": "e75869a2",
   "metadata": {},
   "outputs": [
    {
     "name": "stdout",
     "output_type": "stream",
     "text": [
      "Insira uma tarefa: Subir arquivo no git hub\n",
      "[]\n",
      "Insira uma tarefa: \n",
      "['Subir arquivo no git hub']\n",
      "Insira uma tarefa: \n",
      "['Subir arquivo no git hub', '']\n"
     ]
    }
   ],
   "source": [
    "# != é diferente em python\n",
    "\n",
    "tf = []\n",
    "\n",
    "while tf!= '':\n",
    "    tarefa = input('Insira uma tarefa: ' )\n",
    "    tf.append(tarefa)\n",
    "    print(tf[0:-1])\n"
   ]
  },
  {
   "cell_type": "code",
   "execution_count": 1,
   "id": "15121898",
   "metadata": {},
   "outputs": [
    {
     "name": "stdout",
     "output_type": "stream",
     "text": [
      "['RJ', 'SP', 'AM']\n",
      "[10000, 20000, 500000]\n"
     ]
    }
   ],
   "source": [
    "lojas = ['RJ', 'SP', 'AM']\n",
    "faturamento = [10000, 20000, 500000]\n",
    "\n",
    "print(lojas)\n",
    "print(faturamento)"
   ]
  },
  {
   "cell_type": "code",
   "execution_count": 4,
   "id": "951a5f2c",
   "metadata": {},
   "outputs": [
    {
     "name": "stdout",
     "output_type": "stream",
     "text": [
      "[500000, 20000, 10000]\n"
     ]
    }
   ],
   "source": [
    "#Para mudar a ordem da lista\n",
    "#faturamento.sort(reverse = True)\n",
    "#print(faturamento)\n"
   ]
  },
  {
   "cell_type": "code",
   "execution_count": 3,
   "id": "0e9787b9",
   "metadata": {},
   "outputs": [
    {
     "name": "stdout",
     "output_type": "stream",
     "text": [
      "['RJ', 'SP', 'AM']\n",
      "[10000, 20000, 500000]\n"
     ]
    }
   ],
   "source": [
    "lojas = ['RJ', 'SP', 'AM']\n",
    "faturamento = [10000, 20000, 500000]\n",
    "\n",
    "print(lojas)\n",
    "print(faturamento)\n"
   ]
  },
  {
   "cell_type": "code",
   "execution_count": 5,
   "id": "384c2a6d",
   "metadata": {},
   "outputs": [
    {
     "name": "stdout",
     "output_type": "stream",
     "text": [
      "[('AM', 500000), ('RJ', 10000), ('SP', 20000)]\n"
     ]
    }
   ],
   "source": [
    "resultados = []\n",
    "\n",
    "for i in range(3):\n",
    "    tupla = (lojas[i-1], faturamento[i-1])\n",
    "    resultados.append(tupla)\n",
    "\n",
    "print(resultados)"
   ]
  },
  {
   "cell_type": "code",
   "execution_count": 6,
   "id": "c7abbe4d",
   "metadata": {},
   "outputs": [
    {
     "name": "stdout",
     "output_type": "stream",
     "text": [
      "10000\n"
     ]
    }
   ],
   "source": [
    "#Para ver resultado de uma posição especifica\n",
    "print(resultados[1][1])"
   ]
  },
  {
   "cell_type": "code",
   "execution_count": null,
   "id": "e503b743",
   "metadata": {},
   "outputs": [],
   "source": []
  }
 ],
 "metadata": {
  "kernelspec": {
   "display_name": "Python 3 (ipykernel)",
   "language": "python",
   "name": "python3"
  },
  "language_info": {
   "codemirror_mode": {
    "name": "ipython",
    "version": 3
   },
   "file_extension": ".py",
   "mimetype": "text/x-python",
   "name": "python",
   "nbconvert_exporter": "python",
   "pygments_lexer": "ipython3",
   "version": "3.9.12"
  }
 },
 "nbformat": 4,
 "nbformat_minor": 5
}
