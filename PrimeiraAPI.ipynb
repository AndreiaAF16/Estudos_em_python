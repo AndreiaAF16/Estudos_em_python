{
 "cells": [
  {
   "cell_type": "code",
   "execution_count": 13,
   "id": "2368d60e",
   "metadata": {},
   "outputs": [
    {
     "name": "stdout",
     "output_type": "stream",
     "text": [
      "5.0713\n"
     ]
    }
   ],
   "source": [
    "#Como criar api que pega cotação das moedas atualizado\n",
    "#Json-Formato para trocar informações de um site para outro\n",
    "\n",
    "import requests\n",
    "import json\n",
    "\n",
    "cotacoes = requests.get(\" https://economia.awesomeapi.com.br/last/USD-BRL,EUR-BRL,BTC-BRL\")\n",
    "cotacoes = cotacoes.json()\n",
    "cotacao_dolar = cotacoes['USDBRL'][\"bid\"]\n",
    "print(cotacao_dolar)"
   ]
  },
  {
   "cell_type": "code",
   "execution_count": 12,
   "id": "202c784a",
   "metadata": {},
   "outputs": [
    {
     "name": "stdout",
     "output_type": "stream",
     "text": [
      "<Response [200]>\n",
      "{'total_vendas': 3026.1000000000004}\n",
      "3026.1000000000004\n"
     ]
    }
   ],
   "source": [
    "import requests\n",
    "import json\n",
    "\n",
    "link ='https://primeiraapi.andreiaaf16.repl.co/pegarvendas'\n",
    "\n",
    "requisicao = requests.get(link)\n",
    "\n",
    "print(requisicao)\n",
    "print(requisicao.json())\n",
    "\n",
    "dicionario = requisicao.json()\n",
    "\n",
    "print(dicionario['total_vendas'])"
   ]
  },
  {
   "cell_type": "code",
   "execution_count": null,
   "id": "de628bb0",
   "metadata": {},
   "outputs": [],
   "source": [
    "#import pandas as pd\n",
    "#from flask import Flask, jsonify\n",
    "\n",
    "#app = Flask(__name__)\n",
    "\n",
    "#Construir as funcionalidades\n",
    "#@app.route('/')\n",
    "#def homepage():\n",
    " # return 'A API está no ar'\n",
    "\n",
    "#@app.route('/pegarvendas')\n",
    "#def contatos():\n",
    " # tabela = pd.read_csv('12-18 - Criando API no Python.csv')\n",
    "  #total_vendas = tabela['Vendas'].sum()\n",
    "  #resposta = {'total_vendas': total_vendas}\n",
    "  #return jsonify(resposta)\n",
    "\n",
    "\n",
    "#Rodar a nossa API\n",
    "#app.run(host='0.0.0.0')"
   ]
  }
 ],
 "metadata": {
  "kernelspec": {
   "display_name": "Python 3 (ipykernel)",
   "language": "python",
   "name": "python3"
  },
  "language_info": {
   "codemirror_mode": {
    "name": "ipython",
    "version": 3
   },
   "file_extension": ".py",
   "mimetype": "text/x-python",
   "name": "python",
   "nbconvert_exporter": "python",
   "pygments_lexer": "ipython3",
   "version": "3.9.12"
  }
 },
 "nbformat": 4,
 "nbformat_minor": 5
}
