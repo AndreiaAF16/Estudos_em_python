{
 "cells": [
  {
   "cell_type": "code",
   "execution_count": null,
   "id": "c6a49af3",
   "metadata": {},
   "outputs": [],
   "source": [
    "#O que vem antes de 02pontos são as chaves\n",
    "emails_gerentes = {\n",
    "    \"Iguatemi\": \"Iguatemi@gmail.com\",\n",
    "    \"Plaza\": \"plaza@gmail.com\",\n",
    "    \"Barra\": \"barra@gmail.com,\"\n",
    "}"
   ]
  },
  {
   "cell_type": "code",
   "execution_count": 3,
   "id": "9670c6aa",
   "metadata": {},
   "outputs": [
    {
     "name": "stdout",
     "output_type": "stream",
     "text": [
      "Iguatemi@gmail.com\n"
     ]
    }
   ],
   "source": [
    "#Como buscar um item especifico\n",
    "emails_gerentes = {\n",
    "    \"Iguatemi\": \"Iguatemi@gmail.com\",\n",
    "    \"Plaza\": \"plaza@gmail.com\",\n",
    "    \"Barra\": \"barra@gmail.com,\"\n",
    "}\n",
    "email = emails_gerentes['Iguatemi']\n",
    "print(email)"
   ]
  },
  {
   "cell_type": "code",
   "execution_count": 4,
   "id": "5ef7a7e2",
   "metadata": {},
   "outputs": [
    {
     "name": "stdout",
     "output_type": "stream",
     "text": [
      "{'Iguatemi': 'Iguatemi@gmail.com', 'Plaza': 'plaza@gmail.com', 'Barra': 'barra@gmail.com,', 'Leblon': 'leblon@gmail.com'}\n"
     ]
    }
   ],
   "source": [
    "#Adicionar novo item  no dicionario\n",
    "emails_gerentes[\"Leblon\"] = \"leblon@gmail.com\"\n",
    "print(emails_gerentes)"
   ]
  },
  {
   "cell_type": "code",
   "execution_count": 5,
   "id": "0271002f",
   "metadata": {},
   "outputs": [
    {
     "name": "stdout",
     "output_type": "stream",
     "text": [
      "Iguatemi\n",
      "Plaza\n",
      "Barra\n",
      "Leblon\n"
     ]
    }
   ],
   "source": [
    "#Para descobrir todas as chaves do dicionario\n",
    "\n",
    "for shopping in emails_gerentes:\n",
    "    print(shopping)"
   ]
  },
  {
   "cell_type": "code",
   "execution_count": 6,
   "id": "b658da26",
   "metadata": {},
   "outputs": [
    {
     "name": "stdout",
     "output_type": "stream",
     "text": [
      "dict_keys(['Iguatemi', 'Plaza', 'Barra', 'Leblon'])\n"
     ]
    }
   ],
   "source": [
    "#Para descobrir todas as chaves do dicionario (forma 02)\n",
    "print(emails_gerentes.keys())"
   ]
  },
  {
   "cell_type": "code",
   "execution_count": 7,
   "id": "270c9b6e",
   "metadata": {},
   "outputs": [
    {
     "name": "stdout",
     "output_type": "stream",
     "text": [
      "Iguatemi@gmail.com\n",
      "plaza@gmail.com\n",
      "barra@gmail.com,\n",
      "leblon@gmail.com\n"
     ]
    }
   ],
   "source": [
    "#Para buscar todos oa valores do dicionario(O que vem depois dos 02 pontos)\n",
    "for shopping in emails_gerentes:\n",
    "    email = emails_gerentes[shopping]\n",
    "    print(email)"
   ]
  },
  {
   "cell_type": "code",
   "execution_count": 8,
   "id": "9fe829b1",
   "metadata": {},
   "outputs": [
    {
     "name": "stdout",
     "output_type": "stream",
     "text": [
      "dict_values(['Iguatemi@gmail.com', 'plaza@gmail.com', 'barra@gmail.com,', 'leblon@gmail.com'])\n"
     ]
    }
   ],
   "source": [
    "#Para descobrir todas os valores do dicionario (forma 02)\n",
    "print(emails_gerentes.values())"
   ]
  },
  {
   "cell_type": "code",
   "execution_count": 11,
   "id": "8f16730f",
   "metadata": {},
   "outputs": [
    {
     "name": "stdout",
     "output_type": "stream",
     "text": [
      "{'Plaza': 'plaza@gmail.com', 'Barra': 'barra@gmail.com,'}\n"
     ]
    }
   ],
   "source": [
    "#Para retirar um item do dicionario\n",
    "emails_gerentes.pop(\"Iguatemi\")\n",
    "print(emails_gerentes)"
   ]
  },
  {
   "cell_type": "code",
   "execution_count": 12,
   "id": "2d02d661",
   "metadata": {},
   "outputs": [
    {
     "name": "stdout",
     "output_type": "stream",
     "text": [
      "Não existe\n"
     ]
    }
   ],
   "source": [
    "#Verificar se tem uma chave no dicinario\n",
    "if \"Leblon\" in emails_gerentes:\n",
    "    print(\"Existe\")\n",
    "else:\n",
    "    print(\"Não existe\")"
   ]
  },
  {
   "cell_type": "code",
   "execution_count": null,
   "id": "5483debf",
   "metadata": {},
   "outputs": [],
   "source": []
  }
 ],
 "metadata": {
  "kernelspec": {
   "display_name": "Python 3 (ipykernel)",
   "language": "python",
   "name": "python3"
  },
  "language_info": {
   "codemirror_mode": {
    "name": "ipython",
    "version": 3
   },
   "file_extension": ".py",
   "mimetype": "text/x-python",
   "name": "python",
   "nbconvert_exporter": "python",
   "pygments_lexer": "ipython3",
   "version": "3.9.12"
  }
 },
 "nbformat": 4,
 "nbformat_minor": 5
}
