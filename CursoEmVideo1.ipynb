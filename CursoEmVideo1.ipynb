{
 "cells": [
  {
   "cell_type": "code",
   "execution_count": 1,
   "id": "e7a57060",
   "metadata": {},
   "outputs": [
    {
     "name": "stdout",
     "output_type": "stream",
     "text": [
      "Olá, mundo!\n"
     ]
    }
   ],
   "source": [
    "#Exercício 001\n",
    "print('Olá, mundo!')\n"
   ]
  },
  {
   "cell_type": "code",
   "execution_count": 2,
   "id": "d97b1156",
   "metadata": {},
   "outputs": [
    {
     "name": "stdout",
     "output_type": "stream",
     "text": [
      "Digite um valor: 5\n",
      "Digite outro valor: 6\n",
      "A soma entre 5 e 6 é 11\n"
     ]
    }
   ],
   "source": [
    "#Exercício 003\n",
    "v1 = int(input('Digite um valor: '))\n",
    "v2 = int(input('Digite outro valor: '))\n",
    "s = v1 + v2\n",
    "print('A soma entre {} e {} é {}'.format(v1, v2, s))"
   ]
  },
  {
   "cell_type": "code",
   "execution_count": 4,
   "id": "2311207d",
   "metadata": {},
   "outputs": [
    {
     "name": "stdout",
     "output_type": "stream",
     "text": [
      "Qual o dia que você nasceu? 16\n",
      "Qual o mês que você nasceu? novembro\n",
      "Qual o ano que você nasceu? 2001\n",
      "Você nasceu no dia 16 do mês de novembro do ano de 2001.\n"
     ]
    }
   ],
   "source": [
    "#Exercício complementar \n",
    "D = input('Qual o dia que você nasceu? ')\n",
    "M = input('Qual o mês que você nasceu? ')\n",
    "A = input('Qual o ano que você nasceu? ')\n",
    "print('Você nasceu no dia {} do mês de {} do ano de {}.'.format(D, M, A))\n"
   ]
  },
  {
   "cell_type": "code",
   "execution_count": 5,
   "id": "23e76d7a",
   "metadata": {},
   "outputs": [
    {
     "name": "stdout",
     "output_type": "stream",
     "text": [
      "Digite algo: Andreia\n",
      "O tipo primitivo desse valor é <class 'str'>\n",
      "Só tem espaços False\n",
      "É um número False\n",
      "É alfabético True\n",
      "É alfanumérico True\n",
      "É maiusculo False\n",
      "É minúsculo False\n",
      "Está capitalizada True\n"
     ]
    }
   ],
   "source": [
    "#Exercício 004\n",
    "v1 = input('Digite algo: ')\n",
    "print('O tipo primitivo desse valor é' , type(v1))\n",
    "print('Só tem espaços' , v1.isspace())\n",
    "print('É um número' , v1.isnumeric())\n",
    "print('É alfabético' , v1.isalpha())\n",
    "print('É alfanumérico', v1.isalnum())\n",
    "print('É maiusculo' , v1.isupper())\n",
    "print('É minúsculo' , v1.islower())\n",
    "print('Está capitalizada' , v1.istitle())"
   ]
  },
  {
   "cell_type": "code",
   "execution_count": 6,
   "id": "1e108598",
   "metadata": {},
   "outputs": [
    {
     "name": "stdout",
     "output_type": "stream",
     "text": [
      "Digite um número: 5\n",
      "Analisando o valor 5, o antecessor é 4 e seu sucessor é 6\n"
     ]
    }
   ],
   "source": [
    "#Exercício 005\n",
    "v1 = int(input('Digite um número: '))\n",
    "a = v1 - 1\n",
    "s = v1 + 1\n",
    "print('Analisando o valor {}, o antecessor é {} e seu sucessor é {}'.format(v1, a, s))"
   ]
  },
  {
   "cell_type": "code",
   "execution_count": 7,
   "id": "d3a64d58",
   "metadata": {},
   "outputs": [
    {
     "name": "stdout",
     "output_type": "stream",
     "text": [
      "Digite um número: 9\n",
      "Analisando o valor 9, seu dobro é 18, o triplo é 27, e a raiz quadrada é 3.0\n"
     ]
    }
   ],
   "source": [
    "#Exercício 006\n",
    "v1 = int(input('Digite um número: '))\n",
    "d = v1 * 2\n",
    "t = v1 * 3\n",
    "rq = v1 ** (1/2)\n",
    "print('Analisando o valor {}, seu dobro é {}, o triplo é {}, e a raiz quadrada é {}'.format(v1, d, t, rq))"
   ]
  },
  {
   "cell_type": "code",
   "execution_count": 8,
   "id": "69d36ea8",
   "metadata": {},
   "outputs": [
    {
     "name": "stdout",
     "output_type": "stream",
     "text": [
      "Digite a primeira nota: 5.0\n",
      "Digite a segunda nota: 9.0\n",
      "Somando a nota 5.0 e 9.0, a media do aluno é 7.0.\n"
     ]
    }
   ],
   "source": [
    "#Exercício 007\n",
    "v1 = float(input('Digite a primeira nota: '))\n",
    "v2 = float(input('Digite a segunda nota: '))\n",
    "m = (v1 + v2) / 2\n",
    "print('Somando a nota {} e {}, a media do aluno é {}.'.format(v1, v2, m))"
   ]
  },
  {
   "cell_type": "code",
   "execution_count": 9,
   "id": "b3bfe8c2",
   "metadata": {},
   "outputs": [
    {
     "name": "stdout",
     "output_type": "stream",
     "text": [
      "Digite um valor em metros: 9\n",
      "O valor 9 em centimetros é 900 e em milimetros 9000.\n"
     ]
    }
   ],
   "source": [
    "#Exercício 008 \n",
    "v1 = int(input('Digite um valor em metros: '))\n",
    "cm = v1 * 100\n",
    "mm = v1 * 1000\n",
    "print('O valor {} em centimetros é {} e em milimetros {}.'.format(v1, cm, mm))"
   ]
  },
  {
   "cell_type": "code",
   "execution_count": 1,
   "id": "3f6b1592",
   "metadata": {},
   "outputs": [
    {
     "name": "stdout",
     "output_type": "stream",
     "text": [
      "Digite um valor para ver sua tabuada: 15\n",
      "15 *  1 = 15\n",
      "15 *  2 = 30\n",
      "15 *  3 = 45\n",
      "15 *  4 = 60\n",
      "15 *  5 = 75\n",
      "15 *  6 = 90\n",
      "15 *  7 = 105\n",
      "15 *  8 = 120\n",
      "15 *  9 = 135\n",
      "15 * 10 = 150\n"
     ]
    }
   ],
   "source": [
    "#Exercício 009\n",
    "v1 = int(input('Digite um valor para ver sua tabuada: '))\n",
    "print('{} * {:2} = {}'.format(v1, 1, v1*1))\n",
    "print('{} * {:2} = {}'.format(v1, 2, v1*2))\n",
    "print('{} * {:2} = {}'.format(v1, 3, v1*3))\n",
    "print('{} * {:2} = {}'.format(v1, 4, v1*4))\n",
    "print('{} * {:2} = {}'.format(v1, 5, v1*5))\n",
    "print('{} * {:2} = {}'.format(v1, 6, v1*6))\n",
    "print('{} * {:2} = {}'.format(v1, 7, v1*7))\n",
    "print('{} * {:2} = {}'.format(v1, 8, v1*8))\n",
    "print('{} * {:2} = {}'.format(v1, 9, v1*9))\n",
    "print('{} * {:2} = {}'.format(v1, 10, v1*10))"
   ]
  },
  {
   "cell_type": "code",
   "execution_count": 3,
   "id": "34c3224f",
   "metadata": {},
   "outputs": [
    {
     "name": "stdout",
     "output_type": "stream",
     "text": [
      "Quanto você tem na carteira? R$59.0\n",
      "Você tem na carteira R$59.00 e pode comprar U$11.26.\n"
     ]
    }
   ],
   "source": [
    "#Exercício 010\n",
    "#Valor do dolar 26/06/2022 $1,00 = R$5,24\n",
    "r = float(input('Quanto você tem na carteira? R$'))\n",
    "d = r / 5.24\n",
    "print('Você tem na carteira R${:.2f} e pode comprar U${:.2f}.'.format(r, d))"
   ]
  },
  {
   "cell_type": "code",
   "execution_count": null,
   "id": "1fbf4554",
   "metadata": {},
   "outputs": [],
   "source": []
  }
 ],
 "metadata": {
  "kernelspec": {
   "display_name": "Python 3 (ipykernel)",
   "language": "python",
   "name": "python3"
  },
  "language_info": {
   "codemirror_mode": {
    "name": "ipython",
    "version": 3
   },
   "file_extension": ".py",
   "mimetype": "text/x-python",
   "name": "python",
   "nbconvert_exporter": "python",
   "pygments_lexer": "ipython3",
   "version": "3.9.12"
  }
 },
 "nbformat": 4,
 "nbformat_minor": 5
}
