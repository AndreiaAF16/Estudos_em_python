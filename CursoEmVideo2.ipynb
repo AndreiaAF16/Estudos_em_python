{
 "cells": [
  {
   "cell_type": "code",
   "execution_count": 5,
   "id": "acaa9f51",
   "metadata": {},
   "outputs": [
    {
     "name": "stdout",
     "output_type": "stream",
     "text": [
      "Qual a altura da sua parede? 1.9\n",
      "Qual a largura da sua parede? 1.8\n",
      "A dimensão da parede é 1.9×1.8, e a sua área é 3.42m². Para pintar sua parede, você precisará de 1.71 litros.\n"
     ]
    }
   ],
   "source": [
    "#Exercício 011\n",
    "#1l_tinta = 2m²\n",
    "v1 = float(input('Qual a altura da sua parede? '))\n",
    "v2 = float(input('Qual a largura da sua parede? '))\n",
    "s = v1 * v2\n",
    "t = s / 2\n",
    "print('A dimensão da parede é {}×{}, e a sua área é {}m². Para pintar sua parede, você precisará de {:.2f} litros.'.format(v1, v2, s, t))\n"
   ]
  },
  {
   "cell_type": "code",
   "execution_count": 6,
   "id": "6ecf6b41",
   "metadata": {},
   "outputs": [
    {
     "name": "stdout",
     "output_type": "stream",
     "text": [
      "Qual o valor do produto? R$5.9\n",
      "O valor produto custa R$5.9, e com 5% de desconto é R$5.61.\n"
     ]
    }
   ],
   "source": [
    "#Exercício 012\n",
    "v1 = float(input('Qual o valor do produto? R$'))\n",
    "d = v1 - (v1 * 0.05) \n",
    "print('O valor produto custa R${}, e com 5% de desconto é R${:.2f}.'.format(v1, d))"
   ]
  },
  {
   "cell_type": "code",
   "execution_count": 7,
   "id": "0505c6bc",
   "metadata": {},
   "outputs": [
    {
     "name": "stdout",
     "output_type": "stream",
     "text": [
      "Qual o salário atual? R$1418.0\n",
      "O salário com valor de 1418.0, com 15% de reajuste fica R$1630.70.\n"
     ]
    }
   ],
   "source": [
    "#Exercício 013\n",
    "v1 = float(input('Qual o salário atual? R$'))\n",
    "a = (v1 * 0.15) + v1\n",
    "print('O salário com valor de {}, com 15% de reajuste fica R${:.2f}.'.format(v1, a))\n"
   ]
  },
  {
   "cell_type": "code",
   "execution_count": 8,
   "id": "c791825a",
   "metadata": {},
   "outputs": [
    {
     "name": "stdout",
     "output_type": "stream",
     "text": [
      "Qual a temperatura em celsius? 17.0\n",
      "A temperatura de 17.0°C, é igual a 62.60°F.\n"
     ]
    }
   ],
   "source": [
    "#Exercício 014\n",
    "v1 = float(input('Qual a temperatura em celsius? '))\n",
    "f = (v1 * 1.8) + 32\n",
    "print('A temperatura de {}°C, é igual a {:.2f}°F.'.format(v1, f))"
   ]
  },
  {
   "cell_type": "code",
   "execution_count": 10,
   "id": "8134943c",
   "metadata": {},
   "outputs": [
    {
     "name": "stdout",
     "output_type": "stream",
     "text": [
      "O carro foi alugado por quantos dias? : 3\n",
      "Quantos quilômetros foram rodados? : 5.0\n",
      "Se o carro foi usado por 3 dias, e 5.0km foram rodados, fica no total de R$180.75.\n"
     ]
    }
   ],
   "source": [
    "#Exercício 015 => dia R$60,00 km R$0,15\n",
    "v1 = int(input('O carro foi alugado por quantos dias? : '))\n",
    "v2 = float(input('Quantos quilômetros foram rodados? : '))\n",
    "t = (v1 * 60) + (v2 * 0.15)\n",
    "print('Se o carro foi usado por {} dias, e {}km foram rodados, fica no total de R${:.2f}.'.format(v1, v2, t))"
   ]
  },
  {
   "cell_type": "code",
   "execution_count": 22,
   "id": "e6dd32b3",
   "metadata": {},
   "outputs": [
    {
     "name": "stdout",
     "output_type": "stream",
     "text": [
      "Digite um número29\n",
      "A raiz de 29 é igual a 5\n"
     ]
    }
   ],
   "source": [
    "from math import sqrt\n",
    "num = int(input('Digite um número'))\n",
    "raiz = sqrt(num)\n",
    "print('A raiz de {} é igual a {}'.format(num, math.floor(raiz)))"
   ]
  },
  {
   "cell_type": "code",
   "execution_count": 15,
   "id": "8f1ea7a7",
   "metadata": {},
   "outputs": [
    {
     "name": "stderr",
     "output_type": "stream",
     "text": [
      "Unable to create process using 'C:\\Users\\Alexandre Dell\\anaconda\\python.exe \"C:\\Users\\Alexandre Dell\\anaconda\\Scripts\\pip-script.py\" install math'\n"
     ]
    }
   ],
   "source": [
    "!pip install math"
   ]
  },
  {
   "cell_type": "code",
   "execution_count": null,
   "id": "42bb7209",
   "metadata": {},
   "outputs": [],
   "source": []
  }
 ],
 "metadata": {
  "kernelspec": {
   "display_name": "Python 3 (ipykernel)",
   "language": "python",
   "name": "python3"
  },
  "language_info": {
   "codemirror_mode": {
    "name": "ipython",
    "version": 3
   },
   "file_extension": ".py",
   "mimetype": "text/x-python",
   "name": "python",
   "nbconvert_exporter": "python",
   "pygments_lexer": "ipython3",
   "version": "3.9.12"
  }
 },
 "nbformat": 4,
 "nbformat_minor": 5
}
